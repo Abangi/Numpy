{
 "cells": [
  {
   "cell_type": "markdown",
   "id": "e3d512e7-93e3-49d0-a9f0-4247b0e7b863",
   "metadata": {},
   "source": [
    "### Numpy\n",
    "\n",
    "Numpy is short for numerical python which is the fundamental package required for high performance scientific computing and data analysis.     \n",
    "It is the foundation on which nearly all of the higher level packages are built from.\n",
    "ndarray is one of the key features of NumPy which stands for N-dimensional array object.  \n",
    "Arrays enable us to perform mathematical functions on whole blocks of data using similar syntax to the equivalent operations.\n",
    "\n",
    "Numpy provides:\n",
    "      ndarray a fast and space efficient multidimensional array providing vectorized arithmetic operations and sophisticated broadcasting operations.   \n",
    "      Standard mathematical functions for fast operations on entire arrays of data without having to write loops\n",
    "      Tools for working with memory mapped files.\n",
    "      Linear algebra,random number generation and fourier transformation capabilitities.\n",
    "      \n",
    "Data analysis applications:\n",
    "      Common array algorithms like sorting,unique and set operations.  \n",
    "      Efficient descriptive statistics and aggregation/summarization data.\n",
    "      Group wise data manipulation(aggregation,transformation,functions,applications).\n",
    "      \n"
   ]
  },
  {
   "cell_type": "markdown",
   "id": "34a0eb60-0c1f-43c1-8de1-21d106d32aff",
   "metadata": {},
   "source": [
    "### The NumPy ndarray\n",
    "This is the N-dimensional array object or ndarray which is fast, flexible container for large data sets in python.   \n",
    "Arrays enable you to perform mathematical functions on whole blocks of data using similar syntax to the equivalent operations between scalar elements.   \n",
    "An ndarray is a generic multidimensional container for homogeneous data: that is all of the elements must be of the same type."
   ]
  },
  {
   "cell_type": "markdown",
   "id": "eae66b4f-8e03-414a-9f22-04d868f89e94",
   "metadata": {},
   "source": [
    "### Creating Arrays\n",
    "The easiet way to create an array is to use the array function."
   ]
  },
  {
   "cell_type": "code",
   "execution_count": 1,
   "id": "64cd5de6-8cd8-4ad3-ad03-9522fc21d815",
   "metadata": {},
   "outputs": [
    {
     "data": {
      "text/plain": [
       "array([1, 2, 3, 4, 5, 6, 7])"
      ]
     },
     "execution_count": 1,
     "metadata": {},
     "output_type": "execute_result"
    }
   ],
   "source": [
    "#import numpy package as np\n",
    "import numpy as np\n",
    "\n",
    "a = [1,2,3,4,5,6,7]\n",
    "arr = np.array(a)\n",
    "arr"
   ]
  },
  {
   "cell_type": "code",
   "execution_count": 2,
   "id": "e3f21a59-6b15-407b-bb05-27a09ce80ee9",
   "metadata": {},
   "outputs": [
    {
     "data": {
      "text/plain": [
       "array([[1, 2, 3, 4, 5],\n",
       "       [7, 8, 9, 0, 2]])"
      ]
     },
     "execution_count": 2,
     "metadata": {},
     "output_type": "execute_result"
    }
   ],
   "source": [
    "#nested sequences like a list of equal length will be converted into multidimensional array\n",
    "b = [[1,2,3,4,5],[7,8,9,0,2]]\n",
    "arr1 = np.array(b)\n",
    "arr1"
   ]
  },
  {
   "cell_type": "code",
   "execution_count": 3,
   "id": "deafb32c-6ff9-4504-b98f-de840dad0396",
   "metadata": {},
   "outputs": [
    {
     "data": {
      "text/plain": [
       "2"
      ]
     },
     "execution_count": 3,
     "metadata": {},
     "output_type": "execute_result"
    }
   ],
   "source": [
    "#getting the number of dimensions in a multidimensional array we use the ndim function\n",
    "arr1.ndim"
   ]
  },
  {
   "cell_type": "code",
   "execution_count": 4,
   "id": "464706ab-6dda-426c-b026-60c779e539cc",
   "metadata": {},
   "outputs": [
    {
     "data": {
      "text/plain": [
       "(2, 5)"
      ]
     },
     "execution_count": 4,
     "metadata": {},
     "output_type": "execute_result"
    }
   ],
   "source": [
    "#getting the shape of the multidimensional array use the shape method\n",
    "arr1.shape"
   ]
  },
  {
   "cell_type": "code",
   "execution_count": 5,
   "id": "78c5c44a-c2a9-4f90-9ea1-d7caf60981a7",
   "metadata": {},
   "outputs": [
    {
     "data": {
      "text/plain": [
       "dtype('int32')"
      ]
     },
     "execution_count": 5,
     "metadata": {},
     "output_type": "execute_result"
    }
   ],
   "source": [
    "#getting the datatype\n",
    "arr1.dtype"
   ]
  },
  {
   "cell_type": "code",
   "execution_count": 6,
   "id": "b5fca439-3207-46e8-9167-e53721c7758a",
   "metadata": {},
   "outputs": [
    {
     "data": {
      "text/plain": [
       "array([0., 0., 0., 0., 0., 0., 0., 0., 0., 0.])"
      ]
     },
     "execution_count": 6,
     "metadata": {},
     "output_type": "execute_result"
    }
   ],
   "source": [
    "#other functions for creating arrays\n",
    "np.zeros(10)"
   ]
  },
  {
   "cell_type": "code",
   "execution_count": 7,
   "id": "9f3f76ea-943d-44ee-b73b-36dbe37ffe9f",
   "metadata": {},
   "outputs": [
    {
     "data": {
      "text/plain": [
       "array([[0., 0., 0., 0., 0., 0.],\n",
       "       [0., 0., 0., 0., 0., 0.],\n",
       "       [0., 0., 0., 0., 0., 0.]])"
      ]
     },
     "execution_count": 7,
     "metadata": {},
     "output_type": "execute_result"
    }
   ],
   "source": [
    "np.zeros((3,6))"
   ]
  },
  {
   "cell_type": "code",
   "execution_count": 8,
   "id": "e4b2179c-bde2-46d6-bdb0-1bbe839f2c72",
   "metadata": {},
   "outputs": [
    {
     "data": {
      "text/plain": [
       "array([[[6.23042070e-307, 7.56587584e-307, 1.37961302e-306,\n",
       "         1.11261926e-307],\n",
       "        [8.01097889e-307, 1.78020169e-306, 7.56601165e-307,\n",
       "         1.02359984e-306],\n",
       "        [1.33510679e-306, 2.22522597e-306, 1.33511018e-306,\n",
       "         6.23057689e-307]],\n",
       "\n",
       "       [[1.86921279e-306, 8.90098127e-307, 1.78020848e-306,\n",
       "         1.60219035e-306],\n",
       "        [1.42418172e-306, 2.04712906e-306, 7.56589622e-307,\n",
       "         1.11258277e-307],\n",
       "        [8.90111708e-307, 3.22643519e-307, 9.79103798e-307,\n",
       "         2.46155235e-312]]])"
      ]
     },
     "execution_count": 8,
     "metadata": {},
     "output_type": "execute_result"
    }
   ],
   "source": [
    "np.empty((2,3,4))"
   ]
  },
  {
   "cell_type": "code",
   "execution_count": 9,
   "id": "c68d9a73-b152-4903-abaf-12d42f6da262",
   "metadata": {},
   "outputs": [
    {
     "data": {
      "text/plain": [
       "array([0, 1, 2, 3, 4, 5, 6, 7, 8, 9])"
      ]
     },
     "execution_count": 9,
     "metadata": {},
     "output_type": "execute_result"
    }
   ],
   "source": [
    "np.arange(10)"
   ]
  },
  {
   "cell_type": "code",
   "execution_count": 10,
   "id": "bf95c5ab-98ff-48ae-b892-f1112be8f4c0",
   "metadata": {},
   "outputs": [
    {
     "data": {
      "text/plain": [
       "array(10)"
      ]
     },
     "execution_count": 10,
     "metadata": {},
     "output_type": "execute_result"
    }
   ],
   "source": [
    "#convert input to ndarray but do not copy if the input is already an ndarray\n",
    "np.asarray(10)"
   ]
  },
  {
   "cell_type": "code",
   "execution_count": 11,
   "id": "3add5844-933d-44c6-9c51-492ec701fd59",
   "metadata": {},
   "outputs": [
    {
     "data": {
      "text/plain": [
       "array(1)"
      ]
     },
     "execution_count": 11,
     "metadata": {},
     "output_type": "execute_result"
    }
   ],
   "source": [
    "np.ones_like(10)"
   ]
  },
  {
   "cell_type": "code",
   "execution_count": 12,
   "id": "580995af-ee8a-451d-9aa7-527c6b6590cc",
   "metadata": {},
   "outputs": [
    {
     "data": {
      "text/plain": [
       "array([1., 1., 1., 1., 1., 1., 1., 1., 1., 1.])"
      ]
     },
     "execution_count": 12,
     "metadata": {},
     "output_type": "execute_result"
    }
   ],
   "source": [
    "np.ones(10)"
   ]
  },
  {
   "cell_type": "code",
   "execution_count": 13,
   "id": "aaebdcfa-117e-4892-9086-1e374436c6cd",
   "metadata": {},
   "outputs": [
    {
     "data": {
      "text/plain": [
       "array(0)"
      ]
     },
     "execution_count": 13,
     "metadata": {},
     "output_type": "execute_result"
    }
   ],
   "source": [
    "np.zeros_like(10)"
   ]
  },
  {
   "cell_type": "code",
   "execution_count": 14,
   "id": "766a4873-9733-4b77-b835-41b08095acd7",
   "metadata": {},
   "outputs": [
    {
     "data": {
      "text/plain": [
       "array([0., 0., 0., 0., 0., 0., 0., 0., 0., 0.])"
      ]
     },
     "execution_count": 14,
     "metadata": {},
     "output_type": "execute_result"
    }
   ],
   "source": [
    "np.zeros(10)"
   ]
  },
  {
   "cell_type": "code",
   "execution_count": 15,
   "id": "1558e1c8-d71b-44d9-94c7-f9b49783b951",
   "metadata": {},
   "outputs": [
    {
     "data": {
      "text/plain": [
       "array([[1., 0., 0., 0., 0.],\n",
       "       [0., 1., 0., 0., 0.],\n",
       "       [0., 0., 1., 0., 0.],\n",
       "       [0., 0., 0., 1., 0.],\n",
       "       [0., 0., 0., 0., 1.]])"
      ]
     },
     "execution_count": 15,
     "metadata": {},
     "output_type": "execute_result"
    }
   ],
   "source": [
    "np.identity(5)"
   ]
  },
  {
   "cell_type": "markdown",
   "id": "c269bc22-a7bf-4151-96e6-6fa8fd623616",
   "metadata": {},
   "source": [
    "### Numpy Data Types \n",
    "\n",
    "A datatype or dtype is a special object containing the information the ndarray needs to interpret"
   ]
  },
  {
   "cell_type": "code",
   "execution_count": 16,
   "id": "b3d18db1-b8da-4084-925d-393017c974d9",
   "metadata": {},
   "outputs": [
    {
     "data": {
      "text/plain": [
       "dtype('float64')"
      ]
     },
     "execution_count": 16,
     "metadata": {},
     "output_type": "execute_result"
    }
   ],
   "source": [
    "arr = np.array([1,2,3,4,] ,dtype = np.float64)\n",
    "arr.dtype"
   ]
  },
  {
   "cell_type": "markdown",
   "id": "56cbba29-e378-4c18-9d3e-cf2495639d6e",
   "metadata": {},
   "source": [
    "You can explicity convert or cast an array from one dtype to another using the astype method"
   ]
  },
  {
   "cell_type": "code",
   "execution_count": 17,
   "id": "2840017c-2f5c-4b04-a974-aefea39e1b3a",
   "metadata": {},
   "outputs": [
    {
     "data": {
      "text/plain": [
       "dtype('int64')"
      ]
     },
     "execution_count": 17,
     "metadata": {},
     "output_type": "execute_result"
    }
   ],
   "source": [
    "float_arr = arr.astype(np.int64)\n",
    "float_arr.dtype"
   ]
  },
  {
   "cell_type": "markdown",
   "id": "a8d3f773-7de5-47a8-b3fb-d1bc398742bb",
   "metadata": {},
   "source": [
    "In the above example floating point numbers were cast to integers  \n",
    "Should you have an array of strings representing numbers, you can use astype to convert them to numeric form"
   ]
  },
  {
   "cell_type": "code",
   "execution_count": 18,
   "id": "5663ae82-d0fd-49db-ba1f-bfde8d6fbc95",
   "metadata": {},
   "outputs": [
    {
     "data": {
      "text/plain": [
       "array([5.89, 4.89, 9.  ])"
      ]
     },
     "execution_count": 18,
     "metadata": {},
     "output_type": "execute_result"
    }
   ],
   "source": [
    "numeric_strings = np.array(['5.89','4.89','9.000'])\n",
    "numeric_strings.astype(float)"
   ]
  },
  {
   "cell_type": "code",
   "execution_count": 19,
   "id": "08782e02-4a65-4bcb-9fee-caa075f64c8c",
   "metadata": {},
   "outputs": [
    {
     "data": {
      "text/plain": [
       "dtype('<U5')"
      ]
     },
     "execution_count": 19,
     "metadata": {},
     "output_type": "execute_result"
    }
   ],
   "source": [
    "numeric_strings.dtype"
   ]
  },
  {
   "cell_type": "code",
   "execution_count": 20,
   "id": "400dfc47-0319-45f1-91fd-79cefb0c8341",
   "metadata": {},
   "outputs": [
    {
     "data": {
      "text/plain": [
       "array([0, 1, 2, 3, 4, 5, 6, 7, 8, 9])"
      ]
     },
     "execution_count": 20,
     "metadata": {},
     "output_type": "execute_result"
    }
   ],
   "source": [
    "int_array = np.arange(10)\n",
    "int_array"
   ]
  },
  {
   "cell_type": "code",
   "execution_count": 21,
   "id": "89bb4250-cf6c-4f20-9d6d-08de148e3c1e",
   "metadata": {},
   "outputs": [
    {
     "data": {
      "text/plain": [
       "array([0., 1., 2., 3., 4., 5., 6., 7., 8., 9.])"
      ]
     },
     "execution_count": 21,
     "metadata": {},
     "output_type": "execute_result"
    }
   ],
   "source": [
    "calibers = np.array([3.45,.567,.890,.453,.789], dtype = np.float64)\n",
    "int_array.astype(calibers.dtype)"
   ]
  },
  {
   "cell_type": "markdown",
   "id": "0f589501-a631-466f-9777-d04c543d6757",
   "metadata": {},
   "source": [
    "## Operations Between  Arrays and Scalars\n",
    "\n",
    "Arrays are important because they enable you to express batch operations on data without writing any for loops.  \n",
    "This is usually called vectorization"
   ]
  },
  {
   "cell_type": "code",
   "execution_count": 22,
   "id": "e907f388-22af-4844-a2a5-4ecccc392ee6",
   "metadata": {},
   "outputs": [
    {
     "data": {
      "text/plain": [
       "array([[1.23, 2.  , 5.  ],\n",
       "       [4.  , 6.  , 7.  ]])"
      ]
     },
     "execution_count": 22,
     "metadata": {},
     "output_type": "execute_result"
    }
   ],
   "source": [
    "arr = np.array([[1.23,2,5],[4,6,7]])\n",
    "arr"
   ]
  },
  {
   "cell_type": "code",
   "execution_count": 23,
   "id": "9c3df6d1-a5ee-47c0-9f99-6091c5316356",
   "metadata": {},
   "outputs": [
    {
     "data": {
      "text/plain": [
       "array([[ 1.5129,  4.    , 25.    ],\n",
       "       [16.    , 36.    , 49.    ]])"
      ]
     },
     "execution_count": 23,
     "metadata": {},
     "output_type": "execute_result"
    }
   ],
   "source": [
    "arr*arr"
   ]
  },
  {
   "cell_type": "markdown",
   "id": "ade59260-cb7e-4846-a503-0efa174d6aac",
   "metadata": {},
   "source": [
    "Arithmetic operations with scalars are as you would expect,propagating the value to each element:\n",
    "    "
   ]
  },
  {
   "cell_type": "code",
   "execution_count": 24,
   "id": "8b9123d4-9252-48c8-bbca-839cf7eb8fb3",
   "metadata": {},
   "outputs": [
    {
     "data": {
      "text/plain": [
       "array([[0.81300813, 0.5       , 0.2       ],\n",
       "       [0.25      , 0.16666667, 0.14285714]])"
      ]
     },
     "execution_count": 24,
     "metadata": {},
     "output_type": "execute_result"
    }
   ],
   "source": [
    "1/arr"
   ]
  },
  {
   "cell_type": "markdown",
   "id": "6197ad99-8828-4e16-ae3f-76043a7a3706",
   "metadata": {},
   "source": [
    "Operations between differently sized arrays is called broadcasting."
   ]
  },
  {
   "cell_type": "markdown",
   "id": "a0004632-2633-44eb-b748-529aae60a556",
   "metadata": {},
   "source": [
    "### Basic Indexing and Slicing"
   ]
  },
  {
   "cell_type": "code",
   "execution_count": 25,
   "id": "fdba00c4-8878-43d0-8ad6-5e00d94ab3d1",
   "metadata": {},
   "outputs": [
    {
     "data": {
      "text/plain": [
       "array([0, 1, 2, 3, 4, 5, 6, 7, 8, 9])"
      ]
     },
     "execution_count": 25,
     "metadata": {},
     "output_type": "execute_result"
    }
   ],
   "source": [
    "arr = np.arange(10)\n",
    "arr"
   ]
  },
  {
   "cell_type": "code",
   "execution_count": 26,
   "id": "25f4438c-5505-4c0f-98e0-5ee236a08528",
   "metadata": {},
   "outputs": [
    {
     "data": {
      "text/plain": [
       "5"
      ]
     },
     "execution_count": 26,
     "metadata": {},
     "output_type": "execute_result"
    }
   ],
   "source": [
    "arr[5]"
   ]
  },
  {
   "cell_type": "code",
   "execution_count": 27,
   "id": "c525a91d-f661-41ad-9125-71c12a2ff734",
   "metadata": {},
   "outputs": [
    {
     "data": {
      "text/plain": [
       "array([5, 6, 7])"
      ]
     },
     "execution_count": 27,
     "metadata": {},
     "output_type": "execute_result"
    }
   ],
   "source": [
    "arr[5:8]"
   ]
  },
  {
   "cell_type": "code",
   "execution_count": 28,
   "id": "f9ed64fc-a87b-4e4e-8665-94c4c57d6119",
   "metadata": {},
   "outputs": [
    {
     "data": {
      "text/plain": [
       "array([ 0,  1,  2,  3,  4, 12, 12, 12,  8,  9])"
      ]
     },
     "execution_count": 28,
     "metadata": {},
     "output_type": "execute_result"
    }
   ],
   "source": [
    "arr[5:8] = 12\n",
    "arr"
   ]
  },
  {
   "cell_type": "markdown",
   "id": "0466b0c7-641e-4d66-9f85-ae9aae5008fe",
   "metadata": {},
   "source": [
    "If you can assign a scalar value to a slice as in arr[5:8] = 12, the value is propagated to the entire selection.  \n",
    "This means that the data is not copied and any modifications to the view will be reflected in the source array:"
   ]
  },
  {
   "cell_type": "code",
   "execution_count": 29,
   "id": "ac97df37-cb4f-4c46-a612-03e618623c57",
   "metadata": {},
   "outputs": [],
   "source": [
    "arr_slice = arr[5:8]"
   ]
  },
  {
   "cell_type": "code",
   "execution_count": 30,
   "id": "5e0c1587-580a-4bff-8da3-9f29243fdb2f",
   "metadata": {},
   "outputs": [],
   "source": [
    "arr_slice[1] = 124567"
   ]
  },
  {
   "cell_type": "code",
   "execution_count": 31,
   "id": "635d1914-a380-4f9d-b1cb-700d88882cbc",
   "metadata": {},
   "outputs": [
    {
     "data": {
      "text/plain": [
       "array([     0,      1,      2,      3,      4,     12, 124567,     12,\n",
       "            8,      9])"
      ]
     },
     "execution_count": 31,
     "metadata": {},
     "output_type": "execute_result"
    }
   ],
   "source": [
    "arr"
   ]
  },
  {
   "cell_type": "code",
   "execution_count": 32,
   "id": "e986c1bf-4d39-417a-919c-4e3915a7eb42",
   "metadata": {},
   "outputs": [
    {
     "data": {
      "text/plain": [
       "array([64, 64, 64])"
      ]
     },
     "execution_count": 32,
     "metadata": {},
     "output_type": "execute_result"
    }
   ],
   "source": [
    "arr_slice[:] = 64\n",
    "arr_slice"
   ]
  }
 ],
 "metadata": {
  "kernelspec": {
   "display_name": "Python 3 (ipykernel)",
   "language": "python",
   "name": "python3"
  },
  "language_info": {
   "codemirror_mode": {
    "name": "ipython",
    "version": 3
   },
   "file_extension": ".py",
   "mimetype": "text/x-python",
   "name": "python",
   "nbconvert_exporter": "python",
   "pygments_lexer": "ipython3",
   "version": "3.9.13"
  }
 },
 "nbformat": 4,
 "nbformat_minor": 5
}
